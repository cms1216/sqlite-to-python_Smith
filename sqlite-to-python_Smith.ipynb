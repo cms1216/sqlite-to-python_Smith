{
 "cells": [
  {
   "cell_type": "markdown",
   "metadata": {},
   "source": [
    "# CSE-10102-01\n",
    "\n",
    "## Elements of Computing II\n",
    "\n",
    "Student Name: **Connor Smith**\n",
    "<br>\n",
    "Net ID: **csmith77**\n",
    "<br>\n",
    "Title: **SQLite to Python**"
   ]
  },
  {
   "cell_type": "markdown",
   "metadata": {},
   "source": [
    "**Q1. Describe the basic steps of how to establish a connection with a SQLite database from within Python.**"
   ]
  },
  {
   "cell_type": "code",
   "execution_count": null,
   "metadata": {},
   "outputs": [],
   "source": [
    "# install sqlite3 module\n",
    "import sys\n",
    "!{sys.executable} -m pip install sqlite3\n",
    "\n",
    "#-------------------------------------------------------------#\n",
    "\n",
    "# import sqlite3 module\n",
    "import sqlite3\n",
    "\n",
    "# establish connection to database\n",
    "connection = sqlite3.connect(\"EoCII_Database_Lab.db\")\n",
    "\n",
    "# creates the cursor object\n",
    "cursor = connection.cursor()\n",
    "\n",
    "# closes the connection\n",
    "cursor.close()"
   ]
  },
  {
   "cell_type": "markdown",
   "metadata": {},
   "source": [
    "<Blockquote>AnswerQ1. To establish a connection with a SQLite database within python, you first have to install the sqlite3 model so that the python program is able to understand sql databases exported from sqlite. Next, after installing the model, you import that model into the  code and define the connection variable as the database file that you are trying to pull information from (in this case that is the EoCII_Database_Lab.db). Then create a cursor object out of the connection with the connection.cursor() command and finally once  you are done you close the connection to the database with the cursor.close() command.</Blockquote>"
   ]
  },
  {
   "cell_type": "markdown",
   "metadata": {},
   "source": [
    "**Q2. Take at least 3 of the queries you wrote for the Queries and Joins lab and modify them to run within a Python environment. Include code + comments. What changes did you have to make to the query syntax? Any challenges you encountered (and how did you solve them)?**"
   ]
  },
  {
   "cell_type": "code",
   "execution_count": 2,
   "metadata": {},
   "outputs": [
    {
     "name": "stdout",
     "output_type": "stream",
     "text": [
      "('South Bend',)\n",
      "('Kokomo',)\n",
      "('Indianapolis',)\n",
      "('Fort Wayne',)\n",
      "('Evansville',)\n"
     ]
    }
   ],
   "source": [
    "# import sqlite3\n",
    "import sqlite3\n",
    "\n",
    "# connect to EoCII_Database_Lab.db\n",
    "connection = sqlite3.connect(\"EoCII_Database_Lab.db\")\n",
    "\n",
    "# define the cursor variable\n",
    "cursor = connection.cursor()\n",
    "\n",
    "# execute the query\n",
    "cursor.execute(\"SELECT DISTINCT TeamName FROM Team_Locations ORDER BY TeamName DESC\")\n",
    "\n",
    "# start the count of row 0\n",
    "count = 0\n",
    "\n",
    "# loop through each row printing the result of the query one line at a time\n",
    "for row in cursor:\n",
    "  print(row)\n",
    "  count = count + 1\n",
    "\n",
    "# closes the connection\n",
    "cursor.close()"
   ]
  },
  {
   "cell_type": "code",
   "execution_count": 5,
   "metadata": {},
   "outputs": [
    {
     "name": "stdout",
     "output_type": "stream",
     "text": [
      "('1960_AmericanAssociation_Indianapolis', 1960, 'National', 'PHI', 'American Association', 'Indianapolis', 'AAA', 'MiLB', 'Indianapolis_IN_US', 'Indianapolis', 'IN', 'US')\n",
      "('1960_Midwest_Kokomo', 1960, 'National', 'LAD', 'Midwest', 'Kokomo', 'D', 'MiLB', 'Kokomo_IN_US', 'Kokomo', 'IN', 'US')\n",
      "('1961_AmericanAssociation_Indianapolis', 1961, 'National', 'CIN', 'American Association', 'Indianapolis', 'AAA', 'MiLB', 'Indianapolis_IN_US', 'Indianapolis', 'IN', 'US')\n",
      "('1961_Midwest_Kokomo', 1961, 'National', 'LAD', 'Midwest', 'Kokomo', 'D', 'MiLB', 'Kokomo_IN_US', 'Kokomo', 'IN', 'US')\n",
      "('1962_AmericanAssociation_Indianapolis', 1962, 'American', 'CWS', 'American Association', 'Indianapolis', 'AAA', 'MiLB', 'Indianapolis_IN_US', 'Indianapolis', 'IN', 'US')\n",
      "('1963_International_Indianapolis', 1963, 'American', 'CWS', 'International', 'Indianapolis', 'AAA', 'MiLB', 'Indianapolis_IN_US', 'Indianapolis', 'IN', 'US')\n",
      "('1964_PacificCoast_Indianapolis', 1964, 'American', 'CWS', 'Pacific Coast', 'Indianapolis', 'AAA', 'MiLB', 'Indianapolis_IN_US', 'Indianapolis', 'IN', 'US')\n",
      "('1965_PacificCoast_Indianapolis', 1965, 'American', 'CWS', 'Pacific Coast', 'Indianapolis', 'AAA', 'MiLB', 'Indianapolis_IN_US', 'Indianapolis', 'IN', 'US')\n",
      "('1966_PacificCoast_Indianapolis', 1966, 'American', 'CWS', 'Pacific Coast', 'Indianapolis', 'AAA', 'MiLB', 'Indianapolis_IN_US', 'Indianapolis', 'IN', 'US')\n",
      "('1966_Southern_Evansville', 1966, 'American', 'CWS', 'Southern', 'Evansville', 'AA', 'MiLB', 'Evansville_IN_US', 'Evansville', 'IN', 'US')\n",
      "('1967_PacificCoast_Indianapolis', 1967, 'American', 'CWS', 'Pacific Coast', 'Indianapolis', 'AAA', 'MiLB', 'Indianapolis_IN_US', 'Indianapolis', 'IN', 'US')\n",
      "('1967_Southern_Evansville', 1967, 'American', 'CWS', 'Southern', 'Evansville', 'AA', 'MiLB', 'Evansville_IN_US', 'Evansville', 'IN', 'US')\n",
      "('1968_PacificCoast_Indianapolis', 1968, 'National', 'CIN', 'Pacific Coast', 'Indianapolis', 'AAA', 'MiLB', 'Indianapolis_IN_US', 'Indianapolis', 'IN', 'US')\n",
      "('1968_Southern_Evansville', 1968, 'American', 'CWS', 'Southern', 'Evansville', 'AA', 'MiLB', 'Evansville_IN_US', 'Evansville', 'IN', 'US')\n",
      "('1969_AmericanAssociation_Indianapolis', 1969, 'National', 'CIN', 'American Association', 'Indianapolis', 'AAA', 'MiLB', 'Indianapolis_IN_US', 'Indianapolis', 'IN', 'US')\n",
      "('1970_AmericanAssociation_Evansville', 1970, 'American', 'MIN', 'American Association', 'Evansville', 'AAA', 'MiLB', 'Evansville_IN_US', 'Evansville', 'IN', 'US')\n",
      "('1970_AmericanAssociation_Indianapolis', 1970, 'National', 'CIN', 'American Association', 'Indianapolis', 'AAA', 'MiLB', 'Indianapolis_IN_US', 'Indianapolis', 'IN', 'US')\n",
      "('1971_AmericanAssociation_Evansville', 1971, 'American', 'MIL', 'American Association', 'Evansville', 'AAA', 'MiLB', 'Evansville_IN_US', 'Evansville', 'IN', 'US')\n",
      "('1971_AmericanAssociation_Indianapolis', 1971, 'National', 'CIN', 'American Association', 'Indianapolis', 'AAA', 'MiLB', 'Indianapolis_IN_US', 'Indianapolis', 'IN', 'US')\n",
      "('1972_AmericanAssociation_Evansville', 1972, 'American', 'MIL', 'American Association', 'Evansville', 'AAA', 'MiLB', 'Evansville_IN_US', 'Evansville', 'IN', 'US')\n",
      "('1972_AmericanAssociation_Indianapolis', 1972, 'National', 'CIN', 'American Association', 'Indianapolis', 'AAA', 'MiLB', 'Indianapolis_IN_US', 'Indianapolis', 'IN', 'US')\n",
      "('1973_AmericanAssociation_Evansville', 1973, 'American', 'MIL', 'American Association', 'Evansville', 'AAA', 'MiLB', 'Evansville_IN_US', 'Evansville', 'IN', 'US')\n",
      "('1973_AmericanAssociation_Indianapolis', 1973, 'National', 'CIN', 'American Association', 'Indianapolis', 'AAA', 'MiLB', 'Indianapolis_IN_US', 'Indianapolis', 'IN', 'US')\n",
      "('1974_AmericanAssociation_Evansville', 1974, 'American', 'DET', 'American Association', 'Evansville', 'AAA', 'MiLB', 'Evansville_IN_US', 'Evansville', 'IN', 'US')\n",
      "('1974_AmericanAssociation_Indianapolis', 1974, 'National', 'CIN', 'American Association', 'Indianapolis', 'AAA', 'MiLB', 'Indianapolis_IN_US', 'Indianapolis', 'IN', 'US')\n",
      "('1975_AmericanAssociation_Evansville', 1975, 'American', 'DET', 'American Association', 'Evansville', 'AAA', 'MiLB', 'Evansville_IN_US', 'Evansville', 'IN', 'US')\n",
      "('1975_AmericanAssociation_Indianapolis', 1975, 'National', 'CIN', 'American Association', 'Indianapolis', 'AAA', 'MiLB', 'Indianapolis_IN_US', 'Indianapolis', 'IN', 'US')\n",
      "('1976_AmericanAssociation_Evansville', 1976, 'American', 'DET', 'American Association', 'Evansville', 'AAA', 'MiLB', 'Evansville_IN_US', 'Evansville', 'IN', 'US')\n",
      "('1976_AmericanAssociation_Indianapolis', 1976, 'National', 'CIN', 'American Association', 'Indianapolis', 'AAA', 'MiLB', 'Indianapolis_IN_US', 'Indianapolis', 'IN', 'US')\n",
      "('1977_AmericanAssociation_Evansville', 1977, 'American', 'DET', 'American Association', 'Evansville', 'AAA', 'MiLB', 'Evansville_IN_US', 'Evansville', 'IN', 'US')\n",
      "('1977_AmericanAssociation_Indianapolis', 1977, 'National', 'CIN', 'American Association', 'Indianapolis', 'AAA', 'MiLB', 'Indianapolis_IN_US', 'Indianapolis', 'IN', 'US')\n",
      "('1978_AmericanAssociation_Evansville', 1978, 'American', 'DET', 'American Association', 'Evansville', 'AAA', 'MiLB', 'Evansville_IN_US', 'Evansville', 'IN', 'US')\n",
      "('1978_AmericanAssociation_Indianapolis', 1978, 'National', 'CIN', 'American Association', 'Indianapolis', 'AAA', 'MiLB', 'Indianapolis_IN_US', 'Indianapolis', 'IN', 'US')\n",
      "('1979_AmericanAssociation_Evansville', 1979, 'American', 'DET', 'American Association', 'Evansville', 'AAA', 'MiLB', 'Evansville_IN_US', 'Evansville', 'IN', 'US')\n",
      "('1979_AmericanAssociation_Indianapolis', 1979, 'National', 'CIN', 'American Association', 'Indianapolis', 'AAA', 'MiLB', 'Indianapolis_IN_US', 'Indianapolis', 'IN', 'US')\n",
      "('1980_AmericanAssociation_Evansville', 1980, 'American', 'DET', 'American Association', 'Evansville', 'AAA', 'MiLB', 'Evansville_IN_US', 'Evansville', 'IN', 'US')\n",
      "('1980_AmericanAssociation_Indianapolis', 1980, 'National', 'CIN', 'American Association', 'Indianapolis', 'AAA', 'MiLB', 'Indianapolis_IN_US', 'Indianapolis', 'IN', 'US')\n",
      "('1981_AmericanAssociation_Evansville', 1981, 'American', 'DET', 'American Association', 'Evansville', 'AAA', 'MiLB', 'Evansville_IN_US', 'Evansville', 'IN', 'US')\n",
      "('1981_AmericanAssociation_Indianapolis', 1981, 'National', 'CIN', 'American Association', 'Indianapolis', 'AAA', 'MiLB', 'Indianapolis_IN_US', 'Indianapolis', 'IN', 'US')\n",
      "('1982_AmericanAssociation_Evansville', 1982, 'American', 'DET', 'American Association', 'Evansville', 'AAA', 'MiLB', 'Evansville_IN_US', 'Evansville', 'IN', 'US')\n",
      "('1982_AmericanAssociation_Indianapolis', 1982, 'National', 'CIN', 'American Association', 'Indianapolis', 'AAA', 'MiLB', 'Indianapolis_IN_US', 'Indianapolis', 'IN', 'US')\n",
      "('1983_AmericanAssociation_Evansville', 1983, 'American', 'DET', 'American Association', 'Evansville', 'AAA', 'MiLB', 'Evansville_IN_US', 'Evansville', 'IN', 'US')\n",
      "('1983_AmericanAssociation_Indianapolis', 1983, 'National', 'CIN', 'American Association', 'Indianapolis', 'AAA', 'MiLB', 'Indianapolis_IN_US', 'Indianapolis', 'IN', 'US')\n",
      "('1984_AmericanAssociation_Evansville', 1984, 'American', 'DET', 'American Association', 'Evansville', 'AAA', 'MiLB', 'Evansville_IN_US', 'Evansville', 'IN', 'US')\n",
      "('1984_AmericanAssociation_Indianapolis', 1984, 'National', 'WSH', 'American Association', 'Indianapolis', 'AAA', 'MiLB', 'Indianapolis_IN_US', 'Indianapolis', 'IN', 'US')\n",
      "('1985_AmericanAssociation_Indianapolis', 1985, 'National', 'WSH', 'American Association', 'Indianapolis', 'AAA', 'MiLB', 'Indianapolis_IN_US', 'Indianapolis', 'IN', 'US')\n",
      "('1986_AmericanAssociation_Indianapolis', 1986, 'National', 'WSH', 'American Association', 'Indianapolis', 'AAA', 'MiLB', 'Indianapolis_IN_US', 'Indianapolis', 'IN', 'US')\n",
      "('1987_AmericanAssociation_Indianapolis', 1987, 'National', 'WSH', 'American Association', 'Indianapolis', 'AAA', 'MiLB', 'Indianapolis_IN_US', 'Indianapolis', 'IN', 'US')\n",
      "('1988_AmericanAssociation_Indianapolis', 1988, 'National', 'WSH', 'American Association', 'Indianapolis', 'AAA', 'MiLB', 'Indianapolis_IN_US', 'Indianapolis', 'IN', 'US')\n",
      "('1988_Midwest_SouthBend', 1988, 'American', 'CWS', 'Midwest', 'South Bend', 'A', 'MiLB', 'SouthBend_IN_US', 'South Bend', 'IN', 'US')\n",
      "('1989_AmericanAssociation_Indianapolis', 1989, 'National', 'WSH', 'American Association', 'Indianapolis', 'AAA', 'MiLB', 'Indianapolis_IN_US', 'Indianapolis', 'IN', 'US')\n",
      "('1989_Midwest_SouthBend', 1989, 'American', 'CWS', 'Midwest', 'South Bend', 'A', 'MiLB', 'SouthBend_IN_US', 'South Bend', 'IN', 'US')\n",
      "('1990_AmericanAssociation_Indianapolis', 1990, 'National', 'WSH', 'American Association', 'Indianapolis', 'AAA', 'MiLB', 'Indianapolis_IN_US', 'Indianapolis', 'IN', 'US')\n",
      "('1990_Midwest_SouthBend', 1990, 'American', 'CWS', 'Midwest', 'South Bend', 'A', 'MiLB', 'SouthBend_IN_US', 'South Bend', 'IN', 'US')\n",
      "('1991_AmericanAssociation_Indianapolis', 1991, 'National', 'WSH', 'American Association', 'Indianapolis', 'AAA', 'MiLB', 'Indianapolis_IN_US', 'Indianapolis', 'IN', 'US')\n",
      "('1991_Midwest_SouthBend', 1991, 'American', 'CWS', 'Midwest', 'South Bend', 'A', 'MiLB', 'SouthBend_IN_US', 'South Bend', 'IN', 'US')\n",
      "('1992_AmericanAssociation_Indianapolis', 1992, 'National', 'WSH', 'American Association', 'Indianapolis', 'AAA', 'MiLB', 'Indianapolis_IN_US', 'Indianapolis', 'IN', 'US')\n",
      "('1992_Midwest_SouthBend', 1992, 'American', 'CWS', 'Midwest', 'South Bend', 'A', 'MiLB', 'SouthBend_IN_US', 'South Bend', 'IN', 'US')\n",
      "('1993_AmericanAssociation_Indianapolis', 1993, 'National', 'CIN', 'American Association', 'Indianapolis', 'AAA', 'MiLB', 'Indianapolis_IN_US', 'Indianapolis', 'IN', 'US')\n",
      "('1993_Midwest_FortWayne', 1993, 'American', 'MIN', 'Midwest', 'Fort Wayne', 'A', 'MiLB', 'FortWayne_IN_US', 'Fort Wayne', 'IN', 'US')\n",
      "('1993_Midwest_SouthBend', 1993, 'American', 'CWS', 'Midwest', 'South Bend', 'A', 'MiLB', 'SouthBend_IN_US', 'South Bend', 'IN', 'US')\n",
      "('1994_AmericanAssociation_Indianapolis', 1994, 'National', 'CIN', 'American Association', 'Indianapolis', 'AAA', 'MiLB', 'Indianapolis_IN_US', 'Indianapolis', 'IN', 'US')\n",
      "('1994_Midwest_FortWayne', 1994, 'American', 'MIN', 'Midwest', 'Fort Wayne', 'A', 'MiLB', 'FortWayne_IN_US', 'Fort Wayne', 'IN', 'US')\n",
      "('1994_Midwest_SouthBend', 1994, 'American', 'CWS', 'Midwest', 'South Bend', 'A', 'MiLB', 'SouthBend_IN_US', 'South Bend', 'IN', 'US')\n",
      "('1995_AmericanAssociation_Indianapolis', 1995, 'National', 'CIN', 'American Association', 'Indianapolis', 'AAA', 'MiLB', 'Indianapolis_IN_US', 'Indianapolis', 'IN', 'US')\n",
      "('1995_Midwest_FortWayne', 1995, 'American', 'MIN', 'Midwest', 'Fort Wayne', 'A', 'MiLB', 'FortWayne_IN_US', 'Fort Wayne', 'IN', 'US')\n",
      "('1995_Midwest_SouthBend', 1995, 'American', 'CWS', 'Midwest', 'South Bend', 'A', 'MiLB', 'SouthBend_IN_US', 'South Bend', 'IN', 'US')\n",
      "('1996_AmericanAssociation_Indianapolis', 1996, 'National', 'CIN', 'American Association', 'Indianapolis', 'AAA', 'MiLB', 'Indianapolis_IN_US', 'Indianapolis', 'IN', 'US')\n",
      "('1996_Midwest_FortWayne', 1996, 'American', 'MIN', 'Midwest', 'Fort Wayne', 'A', 'MiLB', 'FortWayne_IN_US', 'Fort Wayne', 'IN', 'US')\n",
      "('1996_Midwest_SouthBend', 1996, 'American', 'CWS', 'Midwest', 'South Bend', 'A', 'MiLB', 'SouthBend_IN_US', 'South Bend', 'IN', 'US')\n",
      "('1997_AmericanAssociation_Indianapolis', 1997, 'National', 'CIN', 'American Association', 'Indianapolis', 'AAA', 'MiLB', 'Indianapolis_IN_US', 'Indianapolis', 'IN', 'US')\n",
      "('1997_Midwest_FortWayne', 1997, 'American', 'MIN', 'Midwest', 'Fort Wayne', 'A', 'MiLB', 'FortWayne_IN_US', 'Fort Wayne', 'IN', 'US')\n",
      "('1997_Midwest_SouthBend', 1997, None, None, 'Midwest', 'South Bend', 'A', 'MiLB', 'SouthBend_IN_US', 'South Bend', 'IN', 'US')\n",
      "('1998_International_Indianapolis', 1998, 'National', 'CIN', 'International', 'Indianapolis', 'AAA', 'MiLB', 'Indianapolis_IN_US', 'Indianapolis', 'IN', 'US')\n",
      "('1998_Midwest_FortWayne', 1998, 'American', 'MIN', 'Midwest', 'Fort Wayne', 'A', 'MiLB', 'FortWayne_IN_US', 'Fort Wayne', 'IN', 'US')\n",
      "('1998_Midwest_SouthBend', 1998, 'National', 'ARI', 'Midwest', 'South Bend', 'A', 'MiLB', 'SouthBend_IN_US', 'South Bend', 'IN', 'US')\n",
      "('1999_International_Indianapolis', 1999, 'National', 'CIN', 'International', 'Indianapolis', 'AAA', 'MiLB', 'Indianapolis_IN_US', 'Indianapolis', 'IN', 'US')\n",
      "('1999_Midwest_FortWayne', 1999, 'National', 'SD', 'Midwest', 'Fort Wayne', 'A', 'MiLB', 'FortWayne_IN_US', 'Fort Wayne', 'IN', 'US')\n",
      "('1999_Midwest_SouthBend', 1999, 'National', 'ARI', 'Midwest', 'South Bend', 'A', 'MiLB', 'SouthBend_IN_US', 'South Bend', 'IN', 'US')\n",
      "('2000_International_Indianapolis', 2000, 'National', 'MIL', 'International', 'Indianapolis', 'AAA', 'MiLB', 'Indianapolis_IN_US', 'Indianapolis', 'IN', 'US')\n",
      "('2000_Midwest_FortWayne', 2000, 'National', 'SD', 'Midwest', 'Fort Wayne', 'A', 'MiLB', 'FortWayne_IN_US', 'Fort Wayne', 'IN', 'US')\n",
      "('2000_Midwest_SouthBend', 2000, 'National', 'ARI', 'Midwest', 'South Bend', 'A', 'MiLB', 'SouthBend_IN_US', 'South Bend', 'IN', 'US')\n",
      "('2001_International_Indianapolis', 2001, 'National', 'MIL', 'International', 'Indianapolis', 'AAA', 'MiLB', 'Indianapolis_IN_US', 'Indianapolis', 'IN', 'US')\n",
      "('2001_Midwest_FortWayne', 2001, 'National', 'SD', 'Midwest', 'Fort Wayne', 'A', 'MiLB', 'FortWayne_IN_US', 'Fort Wayne', 'IN', 'US')\n",
      "('2001_Midwest_SouthBend', 2001, 'National', 'ARI', 'Midwest', 'South Bend', 'A', 'MiLB', 'SouthBend_IN_US', 'South Bend', 'IN', 'US')\n",
      "('2002_International_Indianapolis', 2002, 'National', 'MIL', 'International', 'Indianapolis', 'AAA', 'MiLB', 'Indianapolis_IN_US', 'Indianapolis', 'IN', 'US')\n",
      "('2002_Midwest_FortWayne', 2002, 'National', 'SD', 'Midwest', 'Fort Wayne', 'A', 'MiLB', 'FortWayne_IN_US', 'Fort Wayne', 'IN', 'US')\n",
      "('2002_Midwest_SouthBend', 2002, 'National', 'ARI', 'Midwest', 'South Bend', 'A', 'MiLB', 'SouthBend_IN_US', 'South Bend', 'IN', 'US')\n",
      "('2003_International_Indianapolis', 2003, 'National', 'MIL', 'International', 'Indianapolis', 'AAA', 'MiLB', 'Indianapolis_IN_US', 'Indianapolis', 'IN', 'US')\n",
      "('2003_Midwest_FortWayne', 2003, 'National', 'SD', 'Midwest', 'Fort Wayne', 'A', 'MiLB', 'FortWayne_IN_US', 'Fort Wayne', 'IN', 'US')\n",
      "('2003_Midwest_SouthBend', 2003, 'National', 'ARI', 'Midwest', 'South Bend', 'A', 'MiLB', 'SouthBend_IN_US', 'South Bend', 'IN', 'US')\n",
      "('2004_International_Indianapolis', 2004, 'National', 'MIL', 'International', 'Indianapolis', 'AAA', 'MiLB', 'Indianapolis_IN_US', 'Indianapolis', 'IN', 'US')\n",
      "('2004_Midwest_FortWayne', 2004, 'National', 'SD', 'Midwest', 'Fort Wayne', 'A', 'MiLB', 'FortWayne_IN_US', 'Fort Wayne', 'IN', 'US')\n",
      "('2004_Midwest_SouthBend', 2004, 'National', 'ARI', 'Midwest', 'South Bend', 'A', 'MiLB', 'SouthBend_IN_US', 'South Bend', 'IN', 'US')\n",
      "('2005_International_Indianapolis', 2005, 'National', 'PIT', 'International', 'Indianapolis', 'AAA', 'MiLB', 'Indianapolis_IN_US', 'Indianapolis', 'IN', 'US')\n",
      "('2005_Midwest_FortWayne', 2005, 'National', 'SD', 'Midwest', 'Fort Wayne', 'A', 'MiLB', 'FortWayne_IN_US', 'Fort Wayne', 'IN', 'US')\n",
      "('2005_Midwest_SouthBend', 2005, 'National', 'ARI', 'Midwest', 'South Bend', 'A', 'MiLB', 'SouthBend_IN_US', 'South Bend', 'IN', 'US')\n",
      "('2006_International_Indianapolis', 2006, 'National', 'PIT', 'International', 'Indianapolis', 'AAA', 'MiLB', 'Indianapolis_IN_US', 'Indianapolis', 'IN', 'US')\n",
      "('2006_Midwest_FortWayne', 2006, 'National', 'SD', 'Midwest', 'Fort Wayne', 'A', 'MiLB', 'FortWayne_IN_US', 'Fort Wayne', 'IN', 'US')\n",
      "('2006_Midwest_SouthBend', 2006, 'National', 'ARI', 'Midwest', 'South Bend', 'A', 'MiLB', 'SouthBend_IN_US', 'South Bend', 'IN', 'US')\n",
      "('2007_International_Indianapolis', 2007, 'National', 'PIT', 'International', 'Indianapolis', 'AAA', 'MiLB', 'Indianapolis_IN_US', 'Indianapolis', 'IN', 'US')\n",
      "('2007_Midwest_FortWayne', 2007, 'National', 'SD', 'Midwest', 'Fort Wayne', 'A', 'MiLB', 'FortWayne_IN_US', 'Fort Wayne', 'IN', 'US')\n",
      "('2007_Midwest_SouthBend', 2007, 'National', 'ARI', 'Midwest', 'South Bend', 'A', 'MiLB', 'SouthBend_IN_US', 'South Bend', 'IN', 'US')\n",
      "('2008_International_Indianapolis', 2008, 'National', 'PIT', 'International', 'Indianapolis', 'AAA', 'MiLB', 'Indianapolis_IN_US', 'Indianapolis', 'IN', 'US')\n",
      "('2008_Midwest_FortWayne', 2008, 'National', 'SD', 'Midwest', 'Fort Wayne', 'A', 'MiLB', 'FortWayne_IN_US', 'Fort Wayne', 'IN', 'US')\n",
      "('2008_Midwest_SouthBend', 2008, 'National', 'ARI', 'Midwest', 'South Bend', 'A', 'MiLB', 'SouthBend_IN_US', 'South Bend', 'IN', 'US')\n",
      "('2009_International_Indianapolis', 2009, 'National', 'PIT', 'International', 'Indianapolis', 'AAA', 'MiLB', 'Indianapolis_IN_US', 'Indianapolis', 'IN', 'US')\n",
      "('2009_Midwest_FortWayne', 2009, 'National', 'SD', 'Midwest', 'Fort Wayne', 'A', 'MiLB', 'FortWayne_IN_US', 'Fort Wayne', 'IN', 'US')\n",
      "('2009_Midwest_SouthBend', 2009, 'National', 'ARI', 'Midwest', 'South Bend', 'A', 'MiLB', 'SouthBend_IN_US', 'South Bend', 'IN', 'US')\n",
      "('2010_International_Indianapolis', 2010, 'National', 'PIT', 'International', 'Indianapolis', 'AAA', 'MiLB', 'Indianapolis_IN_US', 'Indianapolis', 'IN', 'US')\n",
      "('2010_Midwest_FortWayne', 2010, 'National', 'SD', 'Midwest', 'Fort Wayne', 'A', 'MiLB', 'FortWayne_IN_US', 'Fort Wayne', 'IN', 'US')\n",
      "('2010_Midwest_SouthBend', 2010, 'National', 'ARI', 'Midwest', 'South Bend', 'A', 'MiLB', 'SouthBend_IN_US', 'South Bend', 'IN', 'US')\n",
      "('2011_International_Indianapolis', 2011, 'National', 'PIT', 'International', 'Indianapolis', 'AAA', 'MiLB', 'Indianapolis_IN_US', 'Indianapolis', 'IN', 'US')\n",
      "('2011_Midwest_FortWayne', 2011, 'National', 'SD', 'Midwest', 'Fort Wayne', 'A', 'MiLB', 'FortWayne_IN_US', 'Fort Wayne', 'IN', 'US')\n",
      "('2011_Midwest_SouthBend', 2011, 'National', 'ARI', 'Midwest', 'South Bend', 'A', 'MiLB', 'SouthBend_IN_US', 'South Bend', 'IN', 'US')\n",
      "('2012_International_Indianapolis', 2012, 'National', 'PIT', 'International', 'Indianapolis', 'AAA', 'MiLB', 'Indianapolis_IN_US', 'Indianapolis', 'IN', 'US')\n",
      "('2012_Midwest_FortWayne', 2012, 'National', 'SD', 'Midwest', 'Fort Wayne', 'A', 'MiLB', 'FortWayne_IN_US', 'Fort Wayne', 'IN', 'US')\n",
      "('2012_Midwest_SouthBend', 2012, 'National', 'ARI', 'Midwest', 'South Bend', 'A', 'MiLB', 'SouthBend_IN_US', 'South Bend', 'IN', 'US')\n",
      "('2013_International_Indianapolis', 2013, 'National', 'PIT', 'International', 'Indianapolis', 'AAA', 'MiLB', 'Indianapolis_IN_US', 'Indianapolis', 'IN', 'US')\n",
      "('2013_Midwest_FortWayne', 2013, 'National', 'SD', 'Midwest', 'Fort Wayne', 'A', 'MiLB', 'FortWayne_IN_US', 'Fort Wayne', 'IN', 'US')\n",
      "('2013_Midwest_SouthBend', 2013, 'National', 'ARI', 'Midwest', 'South Bend', 'A', 'MiLB', 'SouthBend_IN_US', 'South Bend', 'IN', 'US')\n",
      "('2014_International_Indianapolis', 2014, 'National', 'PIT', 'International', 'Indianapolis', 'AAA', 'MiLB', 'Indianapolis_IN_US', 'Indianapolis', 'IN', 'US')\n",
      "('2014_Midwest_FortWayne', 2014, 'National', 'SD', 'Midwest', 'Fort Wayne', 'A', 'MiLB', 'FortWayne_IN_US', 'Fort Wayne', 'IN', 'US')\n",
      "('2014_Midwest_SouthBend', 2014, 'National', 'ARI', 'Midwest', 'South Bend', 'A', 'MiLB', 'SouthBend_IN_US', 'South Bend', 'IN', 'US')\n",
      "('2015_International_Indianapolis', 2015, 'National', 'PIT', 'International', 'Indianapolis', 'AAA', 'MiLB', 'Indianapolis_IN_US', 'Indianapolis', 'IN', 'US')\n",
      "('2015_Midwest_FortWayne', 2015, 'National', 'SD', 'Midwest', 'Fort Wayne', 'A', 'MiLB', 'FortWayne_IN_US', 'Fort Wayne', 'IN', 'US')\n",
      "('2015_Midwest_SouthBend', 2015, 'National', 'CHC', 'Midwest', 'South Bend', 'A', 'MiLB', 'SouthBend_IN_US', 'South Bend', 'IN', 'US')\n",
      "('2016_International_Indianapolis', 2016, 'National', 'PIT', 'International', 'Indianapolis', 'AAA', 'MiLB', 'Indianapolis_IN_US', 'Indianapolis', 'IN', 'US')\n",
      "('2016_Midwest_FortWayne', 2016, 'National', 'SD', 'Midwest', 'Fort Wayne', 'A', 'MiLB', 'FortWayne_IN_US', 'Fort Wayne', 'IN', 'US')\n",
      "('2016_Midwest_SouthBend', 2016, 'National', 'CHC', 'Midwest', 'South Bend', 'A', 'MiLB', 'SouthBend_IN_US', 'South Bend', 'IN', 'US')\n",
      "('2017_International_Indianapolis', 2017, 'National', 'PIT', 'International', 'Indianapolis', 'AAA', 'MiLB', 'Indianapolis_IN_US', 'Indianapolis', 'IN', 'US')\n",
      "('2017_Midwest_FortWayne', 2017, 'National', 'SD', 'Midwest', 'Fort Wayne', 'A', 'MiLB', 'FortWayne_IN_US', 'Fort Wayne', 'IN', 'US')\n",
      "('2017_Midwest_SouthBend', 2017, 'National', 'CHC', 'Midwest', 'South Bend', 'A', 'MiLB', 'SouthBend_IN_US', 'South Bend', 'IN', 'US')\n"
     ]
    }
   ],
   "source": [
    "# import sqlite3\n",
    "import sqlite3\n",
    "\n",
    "# connect to EoCII_Database_Lab.db\n",
    "connection = sqlite3.connect(\"EoCII_Database_Lab.db\")\n",
    "\n",
    "# define the cursor variable\n",
    "cursor = connection.cursor()\n",
    "\n",
    "# execute the query\n",
    "cursor.execute(\"SELECT * FROM Team_Locations WHERE state LIKE 'I%'\")\n",
    "\n",
    "# start the count of row 0\n",
    "count = 0\n",
    "\n",
    "# loop through each row printing the result of the query one line at a time\n",
    "for row in cursor:\n",
    "  print(row)\n",
    "  count = count + 1\n",
    "\n",
    "# closes the connection\n",
    "cursor.close()"
   ]
  },
  {
   "cell_type": "code",
   "execution_count": 6,
   "metadata": {},
   "outputs": [
    {
     "name": "stdout",
     "output_type": "stream",
     "text": [
      "(1994.4270851395872,)\n"
     ]
    }
   ],
   "source": [
    "# import sqlite3\n",
    "import sqlite3\n",
    "\n",
    "# define the cursor variable\n",
    "connection = sqlite3.connect(\"EoCII_Database_Lab.db\")\n",
    "\n",
    "# creates the cursor object\n",
    "cursor = connection.cursor()\n",
    "\n",
    "# execute the query\n",
    "cursor.execute(\"SELECT AVG(DoB) FROM Player_PoB WHERE DoB > 1990\")\n",
    "\n",
    "# start the count of row 0\n",
    "count = 0\n",
    "\n",
    "# loop through each row printing the result of the query one line at a time\n",
    "for row in cursor:\n",
    "  print(row)\n",
    "  count = count + 1\n",
    "\n",
    "# closes the connection\n",
    "cursor.close()"
   ]
  },
  {
   "cell_type": "markdown",
   "metadata": {},
   "source": [
    "<Blockquote>AnswerQ2. The only change I had to make the the syntax was to write it in one line and not include the semicolon at the end. Other than at there were no changes and those changes were not challenging at all.\n",
    "</Blockquote>"
   ]
  },
  {
   "cell_type": "markdown",
   "metadata": {},
   "source": [
    "**Q3. How is Python storing the output for the last query from step 24? What could we do with this output?**"
   ]
  },
  {
   "cell_type": "code",
   "execution_count": 2,
   "metadata": {},
   "outputs": [],
   "source": [
    "# import sqlite3 module\n",
    "import sqlite3\n",
    "\n",
    "# establish connection to database\n",
    "connection = sqlite3.connect(\"EoCII_Database_Lab.db\")\n",
    "\n",
    "# creates the cursor object\n",
    "cursor = connection.cursor()\n",
    "\n",
    "# creates a new variable for query results\n",
    "cursor.execute(\"SELECT * FROM Player_PoB WHERE country='DO'\")\n",
    "\n",
    "# set a row count variable\n",
    "count = 0\n",
    "\n",
    "# for loop that prints row contents and reassigns count value\n",
    "for row in cursor:\n",
    "  print(row)\n",
    "  count = count + 1\n",
    "\n",
    "# print statement that takes final count value (i.e. the number of rows) and prints that total\n",
    "print(count, 'rows')\n",
    "\n",
    "# closes the connection\n",
    "cursor.close()"
   ]
  },
  {
   "cell_type": "markdown",
   "metadata": {},
   "source": [
    "<Blockquote>AnswerQ3. Python is storing the output of the code in a dictionary that has multiple different sublists inside the list of all the results. So, for every line the query returns, is a different entry into the dictionary and each of those entries have their own sublist of the data included in that entry. So, by adding another for loop we can print each entry of the dictionary one at a time to get a more comprehensable output.</Blockquote>"
   ]
  }
 ],
 "metadata": {
  "kernelspec": {
   "display_name": "Python 3",
   "language": "python",
   "name": "python3"
  },
  "language_info": {
   "codemirror_mode": {
    "name": "ipython",
    "version": 3
   },
   "file_extension": ".py",
   "mimetype": "text/x-python",
   "name": "python",
   "nbconvert_exporter": "python",
   "pygments_lexer": "ipython3",
   "version": "3.8.5"
  },
  "widgets": {
   "application/vnd.jupyter.widget-state+json": {
    "state": {},
    "version_major": 2,
    "version_minor": 0
   }
  }
 },
 "nbformat": 4,
 "nbformat_minor": 5
}
